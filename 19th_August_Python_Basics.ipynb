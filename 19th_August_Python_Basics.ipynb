{
 "cells": [
  {
   "cell_type": "code",
   "execution_count": null,
   "id": "7ad09bb3-526b-4001-9eb3-217c09a4f4a3",
   "metadata": {},
   "outputs": [],
   "source": [
    "Python Basics Variable"
   ]
  },
  {
   "cell_type": "raw",
   "id": "732c3d01-39ea-4846-93d9-0abbc273c7f6",
   "metadata": {},
   "source": [
    "1.Declare two variables, `x` and `y`, and assign them integer values. Swap the\n",
    "values of these variables without using any temporary variable."
   ]
  },
  {
   "cell_type": "code",
   "execution_count": 5,
   "id": "d6996a54-a63e-42dc-a16e-924061c31a79",
   "metadata": {},
   "outputs": [
    {
     "name": "stdout",
     "output_type": "stream",
     "text": [
      "20 10\n"
     ]
    }
   ],
   "source": [
    "x=10\n",
    "y=20\n",
    "x=x+y #(here the value of x will be 30)\n",
    "y=x-y #(The value of y will be 30-20=10)\n",
    "x=x-y #(The value of x will be 30-10=20)\n",
    "\n",
    "print(x,y)"
   ]
  },
  {
   "cell_type": "raw",
   "id": "e95de1ac-08ab-4b76-b14b-77a854e156b4",
   "metadata": {},
   "source": [
    "2.Create a program that calculates the area of a rectangle. Take the length and\n",
    "width as inputs from the user and store them in variables. Calculate and\n",
    "display the area."
   ]
  },
  {
   "cell_type": "code",
   "execution_count": 8,
   "id": "ae2855bb-cb3b-4d75-bfce-63b8512e6147",
   "metadata": {},
   "outputs": [
    {
     "name": "stdin",
     "output_type": "stream",
     "text": [
      "Enter the leangth of the rectangle :  10\n",
      "Enter the width of the rectangle :  5\n"
     ]
    },
    {
     "name": "stdout",
     "output_type": "stream",
     "text": [
      "Area of rectangle =  50\n"
     ]
    }
   ],
   "source": [
    "l = int(input(\"Enter the leangth of the rectangle : \")) #(Take the Length of rectangle from the user) \n",
    "w = int(input(\"Enter the width of the rectangle : \")) #(Take the width of rectangle from the user)\n",
    "\n",
    "area = l*w #(Formula of area of rectangle)\n",
    "\n",
    "print(\"Area of rectangle = \",area)"
   ]
  },
  {
   "cell_type": "raw",
   "id": "558583b5-7e2f-430c-9d0c-b1b58b466407",
   "metadata": {},
   "source": [
    "3.Write a Python program that converts temperatures from Celsius to\n",
    "Fahrenheit. Take the temperature in Celsius as input, store it in a variable,\n",
    "convert it to Fahrenheit, and display the result."
   ]
  },
  {
   "cell_type": "code",
   "execution_count": 17,
   "id": "3498fe2a-4588-4d20-9d8c-125b630ec54c",
   "metadata": {},
   "outputs": [
    {
     "name": "stdin",
     "output_type": "stream",
     "text": [
      "Enter the temperature you want to convert from Celsius to Fahrenheit :  45.5563\n"
     ]
    },
    {
     "name": "stdout",
     "output_type": "stream",
     "text": [
      "The temperature is 114.00134 Fahrenhit.\n"
     ]
    }
   ],
   "source": [
    "t = float(input(\"Enter the temperature you want to convert from Celsius to Fahrenheit : \"))\n",
    "Fahrenheit = (t * 9/5) + 32 #(Formula to convert Celsius to fahrenheit)\n",
    "print(\"The temperature is\",Fahrenheit,\"Fahrenhit.\")    "
   ]
  },
  {
   "cell_type": "code",
   "execution_count": null,
   "id": "70877443-15b7-46f7-bc3c-84ec6f0b6d72",
   "metadata": {},
   "outputs": [],
   "source": [
    "TOPIC: String Based Questions"
   ]
  },
  {
   "cell_type": "code",
   "execution_count": null,
   "id": "3f5d0b4c-edbf-4b53-997b-02ae5956ddff",
   "metadata": {},
   "outputs": [],
   "source": [
    "1.Write a Python program that takes a string as input and prints the length of\n",
    "the string."
   ]
  },
  {
   "cell_type": "code",
   "execution_count": 23,
   "id": "0a7a8526-354e-44b4-9ef8-3c71f0933495",
   "metadata": {},
   "outputs": [
    {
     "name": "stdin",
     "output_type": "stream",
     "text": [
      "Enter the String akshay\n"
     ]
    },
    {
     "data": {
      "text/plain": [
       "6"
      ]
     },
     "execution_count": 23,
     "metadata": {},
     "output_type": "execute_result"
    }
   ],
   "source": [
    "s = input(\"Enter the String\")\n",
    "length = len(s)\n",
    "length"
   ]
  },
  {
   "cell_type": "raw",
   "id": "c57b8839-5f59-4475-a51d-ecc9e1d4816f",
   "metadata": {},
   "source": [
    "2.Create a program that takes a sentence from the user and counts the number\n",
    "of vowels (a, e, i, o, u) in the string."
   ]
  },
  {
   "cell_type": "code",
   "execution_count": 49,
   "id": "714627df-f135-488e-8724-eb4ca6e3fe4a",
   "metadata": {},
   "outputs": [
    {
     "name": "stdin",
     "output_type": "stream",
     "text": [
      "Enter the String  AKSHAY\n"
     ]
    },
    {
     "data": {
      "text/plain": [
       "2"
      ]
     },
     "execution_count": 49,
     "metadata": {},
     "output_type": "execute_result"
    }
   ],
   "source": [
    "a = input(\"Enter the String \")\n",
    "count = 0\n",
    "for i in range(len(a)):\n",
    "    if a[i] == \"a\" or a[i] == \"A\" or a[i] == \"e\" or a[i] == \"E\" or a[i] == \"i\" or a[i] == \"I\" or a[i] == \"o\" or a[i] == \"O\" or a[i] == \"u\" or a[i] == \"U\":\n",
    "        count+= 1\n",
    "count"
   ]
  },
  {
   "cell_type": "raw",
   "id": "8b8aaa03-d7b9-4d59-8d91-26cee055c961",
   "metadata": {},
   "source": [
    "3. Given a string, reverse the order of characters using string slicing and print\n",
    "the reversed string."
   ]
  },
  {
   "cell_type": "code",
   "execution_count": 13,
   "id": "1f9021fc-960b-484b-a666-1016550384b7",
   "metadata": {},
   "outputs": [
    {
     "data": {
      "text/plain": [
       "'.yahskA si eman yM'"
      ]
     },
     "execution_count": 13,
     "metadata": {},
     "output_type": "execute_result"
    }
   ],
   "source": [
    "str = \"My name is Akshay.\"\n",
    "str[::-1]"
   ]
  },
  {
   "cell_type": "raw",
   "id": "486a761b-ef1b-4f86-9c2a-9ceacc35c763",
   "metadata": {},
   "source": [
    "4. Write a program that takes a string as input and checks if it is a palindrome\n",
    "(reads the same forwards and backwards)."
   ]
  },
  {
   "cell_type": "code",
   "execution_count": 20,
   "id": "cce5039f-7c11-4e03-864f-8098c59d91a5",
   "metadata": {},
   "outputs": [
    {
     "name": "stdin",
     "output_type": "stream",
     "text": [
      "Enter a string for which you want to check if it a palindrome : 1230321\n"
     ]
    },
    {
     "name": "stdout",
     "output_type": "stream",
     "text": [
      "The above string is palindrome\n"
     ]
    }
   ],
   "source": [
    "str = input(\"Enter a string for which you want to check if it a palindrome :\")\n",
    "Reversestr = str[::-1]\n",
    "if str == Reversestr:\n",
    "    print(\"The above string is palindrome\")\n",
    "else:\n",
    "    print(\"The string is not a palindrome \")"
   ]
  },
  {
   "cell_type": "raw",
   "id": "85ff0d91-ddf3-4e34-8ddb-ed3bb6dadf41",
   "metadata": {},
   "source": [
    "5.Create a program that takes a string as input and removes all the spaces from\n",
    "it. Print the modified string without spaces."
   ]
  },
  {
   "cell_type": "code",
   "execution_count": 27,
   "id": "f35bdd8c-ffaa-49e5-bc87-d8354bc9d190",
   "metadata": {},
   "outputs": [
    {
     "name": "stdin",
     "output_type": "stream",
     "text": [
      "Enter a string for which you want to remove all the spaces : a k   s  h a y\n"
     ]
    },
    {
     "data": {
      "text/plain": [
       "'akshay'"
      ]
     },
     "execution_count": 27,
     "metadata": {},
     "output_type": "execute_result"
    }
   ],
   "source": [
    "str = input(\"Enter a string for which you want to remove all the spaces :\")\n",
    "space_remover = str.replace(\" \",\"\") \n",
    "space_remover"
   ]
  },
  {
   "cell_type": "code",
   "execution_count": null,
   "id": "4c1cec36-263c-4086-89a3-1e53f3994cdb",
   "metadata": {},
   "outputs": [],
   "source": []
  }
 ],
 "metadata": {
  "kernelspec": {
   "display_name": "Python 3 (ipykernel)",
   "language": "python",
   "name": "python3"
  },
  "language_info": {
   "codemirror_mode": {
    "name": "ipython",
    "version": 3
   },
   "file_extension": ".py",
   "mimetype": "text/x-python",
   "name": "python",
   "nbconvert_exporter": "python",
   "pygments_lexer": "ipython3",
   "version": "3.10.8"
  }
 },
 "nbformat": 4,
 "nbformat_minor": 5
}
